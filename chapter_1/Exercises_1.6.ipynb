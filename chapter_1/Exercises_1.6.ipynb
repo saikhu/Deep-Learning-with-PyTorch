{
 "cells": [
  {
   "cell_type": "markdown",
   "id": "75b86540-4d16-4433-aa29-10dca66d28e3",
   "metadata": {},
   "source": [
    "### 1.6 Exercises \n",
    "#### 2. Start the Jupyter notebook server.\n",
    "\n",
    "\n",
    "To check the python version the argument -VV, double VV gives more information for the python build."
   ]
  },
  {
   "cell_type": "code",
   "execution_count": 1,
   "id": "6b286299-31de-46ca-b262-de7c56714ac8",
   "metadata": {},
   "outputs": [
    {
     "name": "stdout",
     "output_type": "stream",
     "text": [
      "Python 3.10.0 (default, Mar  3 2022, 09:58:08) [GCC 7.5.0]\n"
     ]
    }
   ],
   "source": [
    "! python -VV"
   ]
  },
  {
   "cell_type": "code",
   "execution_count": 2,
   "id": "abbfa5b9-4fcd-41f1-b130-e3e025c56869",
   "metadata": {},
   "outputs": [
    {
     "name": "stdout",
     "output_type": "stream",
     "text": [
      "2.1.2+cu121\n"
     ]
    }
   ],
   "source": [
    "import torch\n",
    "print(torch.__version__)"
   ]
  },
  {
   "cell_type": "code",
   "execution_count": 3,
   "id": "cc5319cf-24b2-49c5-b8ba-ef53c3a752a9",
   "metadata": {},
   "outputs": [
    {
     "name": "stdout",
     "output_type": "stream",
     "text": [
      "True\n"
     ]
    }
   ],
   "source": [
    "print(torch.cuda.is_available())"
   ]
  },
  {
   "cell_type": "markdown",
   "id": "9c46c970",
   "metadata": {},
   "source": [
    "Is the location of the torch library used by Jupyter the same as the one you imported from the interactive prompt?"
   ]
  },
  {
   "cell_type": "code",
   "execution_count": 5,
   "id": "aea83eb6",
   "metadata": {},
   "outputs": [
    {
     "data": {
      "text/plain": [
       "(None,\n",
       " '/home/usman/anaconda3/envs/dlpt/lib/python3.10/site-packages/torch',\n",
       " ('', '', 5))"
      ]
     },
     "execution_count": 5,
     "metadata": {},
     "output_type": "execute_result"
    }
   ],
   "source": [
    "import imp\n",
    "imp.find_module('torch')"
   ]
  },
  {
   "cell_type": "code",
   "execution_count": 6,
   "id": "3b906201",
   "metadata": {},
   "outputs": [
    {
     "data": {
      "text/plain": [
       "'/home/usman/anaconda3/envs/dlpt/lib/python3.10/site-packages/torch/__init__.py'"
      ]
     },
     "execution_count": 6,
     "metadata": {},
     "output_type": "execute_result"
    }
   ],
   "source": [
    "torch.__file__"
   ]
  }
 ],
 "metadata": {
  "kernelspec": {
   "display_name": "Python 3 (ipykernel)",
   "language": "python",
   "name": "python3"
  },
  "language_info": {
   "codemirror_mode": {
    "name": "ipython",
    "version": 3
   },
   "file_extension": ".py",
   "mimetype": "text/x-python",
   "name": "python",
   "nbconvert_exporter": "python",
   "pygments_lexer": "ipython3",
   "version": "3.10.0"
  }
 },
 "nbformat": 4,
 "nbformat_minor": 5
}
